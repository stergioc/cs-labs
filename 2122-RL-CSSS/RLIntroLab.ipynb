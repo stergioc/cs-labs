{
  "cells": [
    {
      "cell_type": "markdown",
      "metadata": {
        "deletable": false,
        "editable": false,
        "id": "9fT1vt6seAFg",
        "nbgrader": {
          "checksum": "3d7e0bf7bf37a14b2f4cc8896af5d808",
          "grade": false,
          "grade_id": "cell-c9904c1c46f57746",
          "locked": true,
          "schema_version": 1,
          "solution": false
        }
      },
      "source": [
        "<table>\n",
        "<td height=\"150px\">\n",
        "<img src='https://stergioc.github.io/assets/img/logos.png' />\n",
        "</td>\n",
        "</table>\n",
        "\n",
        "<h1>Introduction to Reinforcement Learning (Hands-on Session)</h1>\n",
        "<h3>Stergios CHRISTODOULIDIS (based on material by Othmane Laoussy)</h3>"
      ]
    },
    {
      "cell_type": "markdown",
      "metadata": {
        "deletable": false,
        "editable": false,
        "id": "kQtD9kl-eAFi",
        "nbgrader": {
          "checksum": "c8f4f6a23a8695f62a4e02738e204550",
          "grade": false,
          "grade_id": "cell-6ef89310dd46c266",
          "locked": true,
          "schema_version": 1,
          "solution": false
        }
      },
      "source": [
        "# Bandits and Exploration/Exploitation\n",
        "\n",
        "This notebook will:\n",
        "- Help you create your first bandit algorithm\n",
        "- Help you understand the effect of epsilon on exploration and learn about the exploration/exploitation tradeoff\n",
        "- Introduce you to some of the reinforcement learning software we are going to use for this specialization\n",
        "\n",
        "This class uses [RL-Glue](https://sites.google.com/a/rl-community.org/rl-glue/Home/rl-glue) to implement most of our experiments, however there is another library that you can use that it is called [gym](https://www.gymlibrary.ml/). RL-Glue was originally designed by Adam White, Brian Tanner, and Rich Sutton. This library will give you a solid framework to understand how reinforcement learning experiments work and how to run your own. If it feels a little confusing at first, don't worry - we are going to walk you through it slowly and introduce you to more and more parts as you progress through the specialization."
      ]
    },
    {
      "cell_type": "markdown",
      "metadata": {
        "deletable": false,
        "editable": false,
        "id": "7ujCZS-neAFi",
        "nbgrader": {
          "checksum": "770bc9fe226cb87b7ad8ca34de163650",
          "grade": false,
          "grade_id": "cell-180a16562fb72a2d",
          "locked": true,
          "schema_version": 1,
          "solution": false
        }
      },
      "source": [
        "## Section 0: Preliminaries"
      ]
    },
    {
      "cell_type": "markdown",
      "metadata": {
        "id": "Nge92KgyHEko"
      },
      "source": [
        "In the next few lines the RL-Glue library will be installed, all the necessary libraries will be imported and a Simple Agent and Environment will be implemeted."
      ]
    },
    {
      "cell_type": "code",
      "execution_count": null,
      "metadata": {
        "id": "NeOX9pwgeiV8"
      },
      "outputs": [],
      "source": [
        "%pip install git+https://github.com/andnp/coursera-rl-glue.git@0.1"
      ]
    },
    {
      "cell_type": "code",
      "execution_count": null,
      "metadata": {
        "deletable": false,
        "editable": false,
        "id": "pMqd0ifXeAFj",
        "nbgrader": {
          "checksum": "f301a0a9497887bcc0a8652dd598de26",
          "grade": false,
          "grade_id": "cell-b1f350f6be960eea",
          "locked": true,
          "schema_version": 1,
          "solution": false
        }
      },
      "outputs": [],
      "source": [
        "# Import necessary libraries\n",
        "%matplotlib inline\n",
        "import numpy as np\n",
        "import matplotlib.pyplot as plt\n",
        "from RLGlue.rl_glue import RLGlue\n",
        "from RLGlue.agent import BaseAgent\n",
        "from RLGlue.environment import BaseEnvironment\n",
        "from tqdm import tqdm\n",
        "import time"
      ]
    },
    {
      "cell_type": "markdown",
      "metadata": {
        "deletable": false,
        "editable": false,
        "id": "_gjgSYa2eAFk",
        "nbgrader": {
          "checksum": "4e05f19854ba40ff12c551dec5042704",
          "grade": false,
          "grade_id": "cell-e2a306e4cfd3e433",
          "locked": true,
          "schema_version": 1,
          "solution": false
        }
      },
      "source": [
        "In the above cells, we import the libraries we need for this assignment. We use numpy throughout the course and occasionally provide hints for which methods to use in numpy. Other than that we mostly use vanilla python and the occasional other library, such as matplotlib for making plots.\n",
        "\n",
        "In the next lines the **10-armed testbed** environment introduced in [section 2.3](http://www.incompleteideas.net/book/RLbook2018.pdf) of the textbook is implemented. We use this throughout this notebook to test our bandit agents. It has 10 arms, which are the actions the agent can take. Pulling an arm generates a stochastic reward from a Gaussian distribution with unit-variance. For each action, the expected value of that action is randomly sampled from a normal distribution, at the start of each run. If you are unfamiliar with the 10-armed Testbed please review it in the textbook before continuing.\n",
        "\n"
      ]
    },
    {
      "cell_type": "code",
      "execution_count": null,
      "metadata": {
        "id": "c8apatCh91c_"
      },
      "outputs": [],
      "source": [
        "class Agent(BaseAgent):\n",
        "    \"\"\"agent does *no* learning, selects action 0 always\"\"\"\n",
        "    def __init__(self):\n",
        "        self.last_action = None\n",
        "        self.num_actions = None\n",
        "        self.q_values = None\n",
        "        self.step_size = None\n",
        "        self.epsilon = None\n",
        "        self.initial_value = 0.0\n",
        "        self.arm_count = [0.0 for _ in range(10)]\n",
        "\n",
        "    def agent_init(self, agent_info={}):\n",
        "        \"\"\"Setup for the agent called when the experiment first starts.\"\"\"\n",
        "\n",
        "        self.num_actions = agent_info.get(\"num_actions\", 2)\n",
        "        self.initial_value = agent_info.get(\"initial_value\", 0.0)\n",
        "        self.q_values = np.ones(agent_info.get(\"num_actions\", 2)) * self.initial_value\n",
        "        self.step_size = agent_info.get(\"step_size\", 0.1)\n",
        "        self.epsilon = agent_info.get(\"epsilon\", 0.0)\n",
        "\n",
        "        self.last_action = 0\n",
        "\n",
        "    def agent_start(self, observation):\n",
        "        \"\"\"The first method called when the experiment starts, called after\n",
        "        the environment starts.\n",
        "        Args:\n",
        "            observation (Numpy array): the state observation from the\n",
        "                environment's evn_start function.\n",
        "        Returns:\n",
        "            The first action the agent takes.\n",
        "        \"\"\"\n",
        "        self.last_action = np.random.choice(self.num_actions)\n",
        "\n",
        "        return self.last_action\n",
        "\n",
        "    def agent_step(self, reward, observation):\n",
        "        \"\"\"A step taken by the agent.\n",
        "        Args:\n",
        "            reward (float): the reward received for taking the last action taken\n",
        "            observation (Numpy array): the state observation from the\n",
        "                environment's step based, where the agent ended up after the\n",
        "                last step\n",
        "        Returns:\n",
        "            The action the agent is taking.\n",
        "        \"\"\"\n",
        "        self.last_action = np.random.choice(self.num_actions)\n",
        "\n",
        "        return self.last_action\n",
        "\n",
        "class TenArmEnvironment(BaseEnvironment):\n",
        "    \"\"\"Implements the environment for an RLGlue environment\n",
        "\n",
        "    Note:\n",
        "        env_init, env_start, env_step, env_cleanup, and env_message are required\n",
        "        methods.\n",
        "    \"\"\"\n",
        "\n",
        "    actions = [0]\n",
        "\n",
        "    def __init__(self):\n",
        "        reward = None\n",
        "        observation = None\n",
        "        termination = None\n",
        "        self.reward_obs_term = (reward, observation, termination)\n",
        "        self.count = 0\n",
        "        self.arms = []\n",
        "        self.seed = None\n",
        "\n",
        "    def env_init(self, env_info={}):\n",
        "        \"\"\"Setup for the environment called when the experiment first starts.\n",
        "\n",
        "        Note:\n",
        "            Initialize a tuple with the reward, first state observation, boolean\n",
        "            indicating if it's terminal.\n",
        "        \"\"\"\n",
        "\n",
        "        self.arms = np.random.randn(10)\n",
        "        local_observation = 0  # An empty NumPy array\n",
        "\n",
        "        self.reward_obs_term = (0.0, local_observation, False)\n",
        "\n",
        "\n",
        "    def env_start(self):\n",
        "        \"\"\"The first method called when the experiment starts, called before the\n",
        "        agent starts.\n",
        "\n",
        "        Returns:\n",
        "            The first state observation from the environment.\n",
        "        \"\"\"\n",
        "        return self.reward_obs_term[1]\n",
        "\n",
        "    def env_step(self, action):\n",
        "        \"\"\"A step taken by the environment.\n",
        "\n",
        "        Args:\n",
        "            action: The action taken by the agent\n",
        "\n",
        "        Returns:\n",
        "            (float, state, Boolean): a tuple of the reward, state observation,\n",
        "                and boolean indicating if it's terminal.\n",
        "        \"\"\"\n",
        "        reward = self.arms[action] + np.random.randn()\n",
        "\n",
        "        obs = self.reward_obs_term[1]\n",
        "\n",
        "        self.reward_obs_term = (reward, obs, False)\n",
        "\n",
        "        return self.reward_obs_term\n",
        "\n",
        "    def env_message(self, message):\n",
        "        \"\"\"A message asking the environment for information\n",
        "\n",
        "        Args:\n",
        "            message (string): the message passed to the environment\n",
        "\n",
        "        Returns:\n",
        "            string: the response (or answer) to the message\n",
        "        \"\"\"\n",
        "        if message == \"what is the current reward?\":\n",
        "            return \"{}\".format(self.reward_obs_term[0])\n",
        "\n",
        "        # else\n",
        "        return \"I don't know how to respond to your message\"\n"
      ]
    },
    {
      "cell_type": "markdown",
      "metadata": {
        "deletable": false,
        "editable": false,
        "id": "lxqZcOqfeAFk",
        "nbgrader": {
          "checksum": "6dfc1a07738ba7ef428ad0d6045b194d",
          "grade": false,
          "grade_id": "cell-753cb03c956b611e",
          "locked": true,
          "schema_version": 1,
          "solution": false
        }
      },
      "source": [
        "## Section 1: Greedy Agent"
      ]
    },
    {
      "cell_type": "markdown",
      "metadata": {
        "deletable": false,
        "editable": false,
        "id": "VBANkRMNeAFk",
        "nbgrader": {
          "checksum": "26fc8f97320909c8ac7e8c66f5b73fca",
          "grade": false,
          "grade_id": "cell-8e7576e85bbe82fc",
          "locked": true,
          "schema_version": 1,
          "solution": false
        }
      },
      "source": [
        "We want to create an agent that will find the action with the highest expected reward. One way an agent could operate is to always choose the action with  the highest value based on the agent’s current estimates. This is called a greedy agent as it greedily chooses the action that it thinks has the highest value. Let's look at what happens in this case.\n",
        "\n",
        "First we are going to implement the argmax function, which takes in a list of action values and returns an action with the highest value. Why are we implementing our own instead of using the argmax function that numpy uses? Numpy's argmax function returns the first instance of the highest value. We do not want that to happen as it biases the agent to choose a specific action in the case of ties. Instead we want to break ties between the highest values randomly. So we are going to implement our own argmax function. You may want to look at [np.random.choice](https://docs.scipy.org/doc/numpy/reference/generated/numpy.random.choice.html) to randomly select from a list of values."
      ]
    },
    {
      "cell_type": "code",
      "execution_count": null,
      "metadata": {
        "deletable": false,
        "id": "DoOtOLPWeAFr",
        "nbgrader": {
          "checksum": "7da87f1e2652ce6f916164cbc8527ef4",
          "grade": false,
          "grade_id": "cell-00a70af9534c45cb",
          "locked": false,
          "schema_version": 1,
          "solution": true
        }
      },
      "outputs": [],
      "source": [
        "def argmax(q_values):\n",
        "    \"\"\"\n",
        "    Takes in a list of q_values and returns the index\n",
        "    of the item with the highest value. Breaks ties randomly.\n",
        "    returns: int - the index of the highest value in q_values\n",
        "    \"\"\"\n",
        "    top = float(\"-inf\")\n",
        "    ties = []\n",
        "    \n",
        "    for i in range(len(q_values)):\n",
        "        # if a value in q_values is greater than the highest value, then update top and reset ties to zero\n",
        "        # if a value is equal to top value, then add the index to ties (hint: do this no matter what)\n",
        "        # Note: You do not have to follow this exact solution. You can choose to do your own implementation.\n",
        "        ### START CODE HERE ###\n",
        "\n",
        "        ### END CODE HERE ###\n",
        "    \n",
        "    # return a random selection from ties. (hint: look at np.random.choice)\n",
        "    ### START CODE HERE ###\n",
        "    \n",
        "    ### END CODE HERE ###\n",
        "    \n",
        "    return ind"
      ]
    },
    {
      "cell_type": "code",
      "execution_count": null,
      "metadata": {
        "deletable": false,
        "editable": false,
        "id": "AB0NpmdAeAFs",
        "nbgrader": {
          "checksum": "ed803f98104a99308ca35d77254a180c",
          "grade": true,
          "grade_id": "cell-f227246db2235e96",
          "locked": true,
          "points": 0,
          "schema_version": 1,
          "solution": false
        }
      },
      "outputs": [],
      "source": [
        "# Test argmax implentation\n",
        "test_array = [0, 0, 0, 0, 0, 0, 0, 0, 1, 0]\n",
        "assert argmax(test_array) == 8, \"Check your argmax implementation returns the index of the largest value\"\n",
        "\n",
        "test_array = [1, 0, 0, 1]\n",
        "total = 0\n",
        "for i in range(100):\n",
        "    total += argmax(test_array)\n",
        "\n",
        "np.save(\"argmax_test\", total)\n",
        "\n",
        "assert total > 0, \"Make sure your argmax implementation randomly chooses among the largest values. Make sure you are not setting a random seed (do not use np.random.seed)\"\n",
        "assert total != 300, \"Make sure your argmax implementation randomly chooses among the largest values.\"\n",
        "print('Passed!')"
      ]
    },
    {
      "cell_type": "markdown",
      "metadata": {
        "deletable": false,
        "editable": false,
        "id": "DxfPbgA8eAFs",
        "nbgrader": {
          "checksum": "60f1a63e2e8eadfa949c0c7e5641c6c3",
          "grade": false,
          "grade_id": "cell-80dca165281ba2f3",
          "locked": true,
          "schema_version": 1,
          "solution": false
        }
      },
      "source": [
        "Now we introduce the first part of an RL-Glue agent that you will implement. Here we are going to create a GreedyAgent and implement the agent_step method. This method gets called each time the agent takes a step. The method has to return the action selected by the agent. This method also ensures the agent’s estimates are updated based on the signals it gets from the environment.\n",
        "\n",
        "Fill in the code below to implement a greedy agent."
      ]
    },
    {
      "cell_type": "code",
      "execution_count": null,
      "metadata": {
        "deletable": false,
        "id": "RefyDIGmeAFt",
        "nbgrader": {
          "checksum": "b65c3822e9e411db5f265be3b2d4fb96",
          "grade": false,
          "grade_id": "cell-582d9e7f86d07eb6",
          "locked": false,
          "schema_version": 1,
          "solution": true
        }
      },
      "outputs": [],
      "source": [
        "class GreedyAgent(Agent):\n",
        "    def agent_step(self, reward, observation):\n",
        "        \"\"\"\n",
        "        Takes one step for the agent. It takes in a reward and observation and \n",
        "        returns the action the agent chooses at that time step.\n",
        "        \n",
        "        Arguments:\n",
        "        reward -- float, the reward the agent received from the environment after taking the last action.\n",
        "        observation -- float, the observed state the agent is in. Do not worry about this for this assignment \n",
        "        as you will not use it until future lessons.\n",
        "        Returns:\n",
        "        current_action -- int, the action chosen by the agent at the current time step.\n",
        "        \"\"\"\n",
        "        ### Useful Class Variables ###\n",
        "        # self.q_values : An array with the agent’s value estimates for each action.\n",
        "        # self.arm_count : An array with a count of the number of times each arm has been pulled.\n",
        "        # self.last_action : The action that the agent took on the previous time step.\n",
        "        #######################\n",
        "        \n",
        "        # Update action values. Hint: Look at the algorithm in section 2.4 of the textbook.\n",
        "        # Increment the counter in self.arm_count for the action from the previous time step\n",
        "        # Update the step size using self.arm_count\n",
        "        # Update self.q_values for the action from the previous time step\n",
        "        # (~3-5 lines)\n",
        "        ### START CODE HERE ###\n",
        "        \n",
        "        ### END CODE HERE ###\n",
        "        \n",
        "        # current action = ? # Use the argmax function you created above\n",
        "        # (~2 lines)\n",
        "        ### START CODE HERE ###\n",
        "        \n",
        "        ### END CODE HERE ###\n",
        "    \n",
        "        self.last_action = current_action\n",
        "        \n",
        "        return current_action"
      ]
    },
    {
      "cell_type": "code",
      "execution_count": null,
      "metadata": {
        "deletable": false,
        "editable": false,
        "id": "sF5erIVQeAFt",
        "nbgrader": {
          "checksum": "6a40d37a378dc173aa2654f9fdb0ff7f",
          "grade": true,
          "grade_id": "cell-08fc9e17dec07fd5",
          "locked": true,
          "points": 0,
          "schema_version": 1,
          "solution": false
        }
      },
      "outputs": [],
      "source": [
        "# Do not modify this cell\n",
        "# Test for Greedy Agent Code\n",
        "greedy_agent = GreedyAgent()\n",
        "greedy_agent.q_values = [0, 0, 1.0, 0, 0]\n",
        "greedy_agent.arm_count = [0, 1, 0, 0, 0]\n",
        "greedy_agent.last_action = 1\n",
        "action = greedy_agent.agent_step(1, 0)\n",
        "print(greedy_agent.q_values)\n",
        "np.save(\"greedy_test\", greedy_agent.q_values)\n",
        "print(\"Output:\")\n",
        "print(greedy_agent.q_values)\n",
        "print(\"Expected Output:\")\n",
        "print([0, 0.5, 1.0, 0, 0])\n",
        "\n",
        "assert action == 2, \"Check that you are using argmax to choose the action with the highest value.\"\n",
        "assert greedy_agent.q_values == [0, 0.5, 1.0, 0, 0], \"Check that you are updating q_values correctly.\""
      ]
    },
    {
      "cell_type": "markdown",
      "metadata": {
        "deletable": false,
        "editable": false,
        "id": "dfuik5JfeAFu",
        "nbgrader": {
          "checksum": "90a42fd6968847f33177fb88b0154707",
          "grade": false,
          "grade_id": "cell-0edf7d5d440cdc40",
          "locked": true,
          "schema_version": 1,
          "solution": false
        }
      },
      "source": [
        "Let's visualize the result. Here we run an experiment using RL-Glue to test our agent. For now, we will set up the experiment code; in future lessons, we will walk you through running experiments so that you can create your own."
      ]
    },
    {
      "cell_type": "code",
      "execution_count": null,
      "metadata": {
        "deletable": false,
        "editable": false,
        "id": "rfCAQC_teAFu",
        "nbgrader": {
          "checksum": "c2bbd4838419e16d407d08f2a7c2fb66",
          "grade": false,
          "grade_id": "cell-13bf4a5ec5402a22",
          "locked": true,
          "schema_version": 1,
          "solution": false
        }
      },
      "outputs": [],
      "source": [
        "# Plot Greedy Result\n",
        "num_runs = 200                    # The number of times we run the experiment\n",
        "num_steps = 1000                  # The number of steps each experiment is run for\n",
        "env = TenArmEnvironment           # The environment to use\n",
        "agent = GreedyAgent               # We choose what agent we want to use\n",
        "agent_info = {\"num_actions\": 10}  # Pass the agent the information it needs; \n",
        "                                  # here it just needs the number of actions (number of arms).\n",
        "env_info = {}                     # Pass the environment the information it needs; in this case, it is nothing.\n",
        "\n",
        "all_averages = []\n",
        "\n",
        "for i in tqdm(range(num_runs)):           # tqdm is what creates the progress bar below once the code is run\n",
        "    rl_glue = RLGlue(env, agent)          # Creates a new RLGlue experiment with the env and agent we chose above\n",
        "    rl_glue.rl_init(agent_info, env_info) # Pass RLGlue what it needs to initialize the agent and environment\n",
        "    rl_glue.rl_start()                    # Start the experiment\n",
        "\n",
        "    scores = [0]\n",
        "    averages = []\n",
        "    \n",
        "    for i in range(num_steps):\n",
        "        reward, _, action, _ = rl_glue.rl_step() # The environment and agent take a step and return\n",
        "                                                 # the reward, and action taken.\n",
        "        scores.append(scores[-1] + reward)\n",
        "        averages.append(scores[-1] / (i + 1))\n",
        "    all_averages.append(averages)\n",
        "\n",
        "plt.figure(figsize=(15, 5), dpi= 80, facecolor='w', edgecolor='k')\n",
        "plt.plot([1.55 for _ in range(num_steps)], linestyle=\"--\")\n",
        "plt.plot(np.mean(all_averages, axis=0))\n",
        "plt.legend([\"Best Possible\", \"Greedy\"])\n",
        "plt.title(\"Average Reward of Greedy Agent\")\n",
        "plt.xlabel(\"Steps\")\n",
        "plt.ylabel(\"Average reward\")\n",
        "plt.show()\n",
        "greedy_scores = np.mean(all_averages, axis=0)\n",
        "np.save(\"greedy_scores\", greedy_scores)"
      ]
    },
    {
      "cell_type": "markdown",
      "metadata": {
        "deletable": false,
        "editable": false,
        "id": "Q3-VEjE3eAFv",
        "nbgrader": {
          "checksum": "a853027b4891a856372c381b05461a4f",
          "grade": false,
          "grade_id": "cell-04a8bd103b7af798",
          "locked": true,
          "schema_version": 1,
          "solution": false
        }
      },
      "source": [
        "#### Question\n",
        "How did our agent do? Is it possible for it to do better?"
      ]
    },
    {
      "cell_type": "markdown",
      "metadata": {
        "id": "5Bq2yFbweAFv"
      },
      "source": [
        "## Section 2: Epsilon-Greedy Agent"
      ]
    },
    {
      "cell_type": "markdown",
      "metadata": {
        "id": "Rpw1jNvteAFv"
      },
      "source": [
        "We learned about the exploration-exploitation trade-off, where it does not always take the greedy action. Instead, sometimes it takes an exploratory action. It does this so that it can find out what the best action really is. If we always choose what we think is the current best action is, we may miss out on taking the true best action, because we haven't explored enough times to find that best action.\n",
        "\n",
        "Implement an epsilon-greedy agent below. Hint: we are implementing the algorithm from [section 2.4](http://www.incompleteideas.net/book/RLbook2018.pdf#page=52) of the textbook. You may want to use your greedy code from above and look at [np.random.random](https://docs.scipy.org/doc/numpy/reference/generated/numpy.random.random.html), as well as [np.random.randint](https://docs.scipy.org/doc/numpy/reference/generated/numpy.random.randint.html), to help you select random actions. "
      ]
    },
    {
      "cell_type": "code",
      "execution_count": null,
      "metadata": {
        "deletable": false,
        "id": "uhKiNC7_eAFv",
        "nbgrader": {
          "checksum": "00712574db774e4553878a18665e2751",
          "grade": false,
          "grade_id": "cell-6862cb5ef5702d22",
          "locked": false,
          "schema_version": 1,
          "solution": true
        }
      },
      "outputs": [],
      "source": [
        "# Epsilon Greedy Agent here [Graded]\n",
        "class EpsilonGreedyAgent(Agent):\n",
        "    def agent_step(self, reward, observation):\n",
        "        \"\"\"\n",
        "        Takes one step for the agent. It takes in a reward and observation and \n",
        "        returns the action the agent chooses at that time step.\n",
        "        \n",
        "        Arguments:\n",
        "        reward -- float, the reward the agent received from the environment after taking the last action.\n",
        "        observation -- float, the observed state the agent is in. Do not worry about this for this assignment \n",
        "        as you will not use it until future lessons.\n",
        "        Returns:\n",
        "        current_action -- int, the action chosen by the agent at the current time step.\n",
        "        \"\"\"\n",
        "        \n",
        "        ### Useful Class Variables ###\n",
        "        # self.q_values : An array with the agent’s value estimates for each action.\n",
        "        # self.arm_count : An array with a count of the number of times each arm has been pulled.\n",
        "        # self.last_action : The action that the agent took on the previous time step.\n",
        "        # self.epsilon : The probability an epsilon greedy agent will explore (ranges between 0 and 1)\n",
        "        #######################\n",
        "        \n",
        "        # Update action-values - this should be the same update as your greedy agent above\n",
        "        # (~2-5 lines)\n",
        "        ### START CODE HERE ###\n",
        "        \n",
        "        ### END CODE HERE ###\n",
        "        \n",
        "        # Choose action using epsilon greedy\n",
        "        # Randomly choose a number between 0 and 1 and see if it is less than self.epsilon\n",
        "        # (Hint: look at np.random.random()). If it is, set current_action to a random action.\n",
        "        # Otherwise choose current_action greedily as you did above.\n",
        "        # (~4 lines)\n",
        "        ### START CODE HERE ###\n",
        "        \n",
        "        ### END CODE HERE ###\n",
        "        \n",
        "        self.last_action = current_action\n",
        "        \n",
        "        return current_action"
      ]
    },
    {
      "cell_type": "code",
      "execution_count": null,
      "metadata": {
        "deletable": false,
        "editable": false,
        "id": "DTg9NPeQeAFw",
        "nbgrader": {
          "checksum": "e530a16b139b2a9966b1a65e25086f70",
          "grade": true,
          "grade_id": "cell-3099aff70dfd2e61",
          "locked": true,
          "points": 0,
          "schema_version": 1,
          "solution": false
        }
      },
      "outputs": [],
      "source": [
        "# Do not modify this cell\n",
        "# Test Code for Epsilon Greedy Agent\n",
        "e_greedy_agent = EpsilonGreedyAgent()\n",
        "e_greedy_agent.q_values = [0, 0, 1.0, 0, 0]\n",
        "e_greedy_agent.arm_count = [0, 1, 0, 0, 0]\n",
        "e_greedy_agent.num_actions = 5\n",
        "e_greedy_agent.last_action = 1\n",
        "e_greedy_agent.epsilon = 0.5\n",
        "action = e_greedy_agent.agent_step(1, 0)\n",
        "print(\"Output:\")\n",
        "print(e_greedy_agent.q_values)\n",
        "print(\"Expected Output:\")\n",
        "print([0, 0.5, 1.0, 0, 0])\n",
        "\n",
        "# assert action == 2, \"Check that you are using argmax to choose the action with the highest value.\"\n",
        "assert e_greedy_agent.q_values == [0, 0.5, 1.0, 0, 0], \"Check that you are updating q_values correctly.\""
      ]
    },
    {
      "cell_type": "markdown",
      "metadata": {
        "deletable": false,
        "editable": false,
        "id": "0xidhVqHeAFw",
        "nbgrader": {
          "checksum": "5488f20b68110a856dad3a003f51db32",
          "grade": false,
          "grade_id": "cell-762b0b3997c2300f",
          "locked": true,
          "schema_version": 1,
          "solution": false
        }
      },
      "source": [
        "Now that we have our epsilon greedy agent created. Let's compare it against the greedy agent with epsilon of 0.1."
      ]
    },
    {
      "cell_type": "code",
      "execution_count": null,
      "metadata": {
        "deletable": false,
        "editable": false,
        "id": "I4-uR-2jeAFw",
        "nbgrader": {
          "checksum": "9a2b47a106185d21f2e00f81871f7476",
          "grade": false,
          "grade_id": "cell-2f6cef9d3ecdace7",
          "locked": true,
          "schema_version": 1,
          "solution": false
        }
      },
      "outputs": [],
      "source": [
        "# Plot Epsilon greedy results and greedy results\n",
        "num_runs = 200\n",
        "num_steps = 1000\n",
        "epsilon = 0.1\n",
        "agent = EpsilonGreedyAgent\n",
        "env = TenArmEnvironment\n",
        "agent_info = {\"num_actions\": 10, \"epsilon\": epsilon}\n",
        "env_info = {}\n",
        "all_averages = []\n",
        "\n",
        "for i in tqdm(range(num_runs)):\n",
        "    rl_glue = RLGlue(env, agent)\n",
        "    rl_glue.rl_init(agent_info, env_info)\n",
        "    rl_glue.rl_start()\n",
        "\n",
        "    scores = [0]\n",
        "    averages = []\n",
        "    for i in range(num_steps):\n",
        "        reward, _, action, _ = rl_glue.rl_step() # The environment and agent take a step and return\n",
        "                                                 # the reward, and action taken.\n",
        "        scores.append(scores[-1] + reward)\n",
        "        averages.append(scores[-1] / (i + 1))\n",
        "    all_averages.append(averages)\n",
        "\n",
        "plt.figure(figsize=(15, 5), dpi= 80, facecolor='w', edgecolor='k')\n",
        "plt.plot([1.55 for _ in range(num_steps)], linestyle=\"--\")\n",
        "plt.plot(greedy_scores)\n",
        "plt.title(\"Average Reward of Greedy Agent vs. Epsilon-Greedy Agent\")\n",
        "plt.plot(np.mean(all_averages, axis=0))\n",
        "plt.legend((\"Best Possible\", \"Greedy\", \"Epsilon Greedy: Epsilon = 0.1\"))\n",
        "plt.xlabel(\"Steps\")\n",
        "plt.ylabel(\"Average reward\")\n",
        "plt.show()\n",
        "np.save(\"e-greedy\", all_averages)"
      ]
    },
    {
      "cell_type": "markdown",
      "metadata": {
        "deletable": false,
        "editable": false,
        "id": "jpDj73KYeAFx",
        "nbgrader": {
          "checksum": "ed0fa5039cf69237a1caf29b273b2942",
          "grade": false,
          "grade_id": "cell-23cf04f952075345",
          "locked": true,
          "schema_version": 1,
          "solution": false
        }
      },
      "source": [
        "#### Question\n",
        "What do you notice ? explain the difference between the greedy and epsilon-greedy"
      ]
    },
    {
      "cell_type": "markdown",
      "metadata": {
        "deletable": false,
        "editable": false,
        "id": "iw7srvj1eAFx",
        "nbgrader": {
          "checksum": "7acf4c8b67b66a59bd737bbb29d3d9f7",
          "grade": false,
          "grade_id": "cell-edb9184608392c62",
          "locked": true,
          "schema_version": 1,
          "solution": false
        }
      },
      "source": [
        "## 1.2 Averaging Multiple Runs"
      ]
    },
    {
      "cell_type": "markdown",
      "metadata": {
        "deletable": false,
        "editable": false,
        "id": "94f_O15weAFx",
        "nbgrader": {
          "checksum": "7c51be606d9d6554fdd916078b0bda57",
          "grade": false,
          "grade_id": "cell-1b55f263f08b1389",
          "locked": true,
          "schema_version": 1,
          "solution": false
        }
      },
      "source": [
        "Did you notice that we averaged over 2000 runs? Why did we do that?\n",
        "\n",
        "To get some insight, let's look at the results of two individual runs by the same agent."
      ]
    },
    {
      "cell_type": "code",
      "execution_count": null,
      "metadata": {
        "deletable": false,
        "editable": false,
        "id": "J16_tqYreAFx",
        "nbgrader": {
          "checksum": "6a98c68aa5e4e1270799ea04bed4721f",
          "grade": false,
          "grade_id": "cell-69d62e83fc1d91bc",
          "locked": true,
          "schema_version": 1,
          "solution": false
        }
      },
      "outputs": [],
      "source": [
        "# Plot runs of e-greedy agent\n",
        "agent = EpsilonGreedyAgent\n",
        "agent_info = {\"num_actions\": 10, \"epsilon\": 0.1}\n",
        "env_info = {}\n",
        "all_averages = []\n",
        "plt.figure(figsize=(15, 5), dpi= 80, facecolor='w', edgecolor='k')\n",
        "num_steps = 1000\n",
        "\n",
        "for run in (0, 1):\n",
        "    np.random.seed(run) # Here we set the seed so that we can compare two different runs\n",
        "    averages = []\n",
        "    rl_glue = RLGlue(env, agent)\n",
        "    rl_glue.rl_init(agent_info, env_info)\n",
        "    rl_glue.rl_start()\n",
        "\n",
        "    scores = [0]\n",
        "    for i in range(num_steps):\n",
        "        reward, state, action, is_terminal = rl_glue.rl_step()\n",
        "        scores.append(scores[-1] + reward)\n",
        "        averages.append(scores[-1] / (i + 1))\n",
        "#     all_averages.append(averages)\n",
        "    plt.plot(averages)\n",
        "\n",
        "# plt.plot(greedy_scores)\n",
        "plt.title(\"Comparing two runs of the same agent\")\n",
        "plt.xlabel(\"Steps\")\n",
        "plt.ylabel(\"Average reward\")\n",
        "# plt.plot(np.mean(all_averages, axis=0))\n",
        "# plt.legend((\"Greedy\", \"Epsilon: 0.1\"))\n",
        "plt.show()"
      ]
    },
    {
      "cell_type": "markdown",
      "metadata": {
        "deletable": false,
        "editable": false,
        "id": "oUubGRXTeAFy",
        "nbgrader": {
          "checksum": "9c6b5d4ea841a388245eb1fdc732a3ed",
          "grade": false,
          "grade_id": "cell-cbabc6468847faab",
          "locked": true,
          "schema_version": 1,
          "solution": false
        }
      },
      "source": [
        "Notice how the two runs were different? But, if this is the exact same algorithm, why does it behave differently in these two runs?\n",
        "\n",
        "The answer is that it is due to randomness in the environment and in the agent. Depending on what action the agent randomly starts with, or when it randomly chooses to explore, it can change the results of the runs. And even if the agent chooses the same action, the reward from the environment is randomly sampled from a Gaussian. The agent could get lucky, and see larger rewards for the best action early on and so settle on the best action faster. Or, it could get unlucky and see smaller rewards for best action early on and so take longer to recognize that it is in fact the best action.\n",
        "\n",
        "To be more concrete, let’s look at how many times an exploratory action is taken, for different seeds. "
      ]
    },
    {
      "cell_type": "code",
      "execution_count": null,
      "metadata": {
        "deletable": false,
        "editable": false,
        "id": "YiQKuJG7eAFy",
        "nbgrader": {
          "checksum": "9c0105d5ee8f26ec966704dad4d013f0",
          "grade": false,
          "grade_id": "cell-a6e9ef699d799240",
          "locked": true,
          "schema_version": 1,
          "solution": false
        }
      },
      "outputs": [],
      "source": [
        "print(\"Random Seed 1\")\n",
        "np.random.seed(1)\n",
        "for _ in range(15):\n",
        "    if np.random.random() < 0.1:\n",
        "        print(\"Exploratory Action\")\n",
        "    \n",
        "\n",
        "print()\n",
        "print()\n",
        "\n",
        "print(\"Random Seed 2\")\n",
        "np.random.seed(2)\n",
        "for _ in range(15):\n",
        "    if np.random.random() < 0.1:\n",
        "        print(\"Exploratory Action\")"
      ]
    },
    {
      "cell_type": "markdown",
      "metadata": {
        "deletable": false,
        "editable": false,
        "id": "Cr-mDbYCeAFy",
        "nbgrader": {
          "checksum": "bc8ff22ac82750f9eb3e0f901d5f4166",
          "grade": false,
          "grade_id": "cell-42f5c9cb11fffbb0",
          "locked": true,
          "schema_version": 1,
          "solution": false
        }
      },
      "source": [
        "With the first seed, we take an exploratory action three times out of 15, but with the second, we only take an exploratory action once. This can significantly affect the performance of our agent because the amount of exploration has changed significantly.\n",
        "\n",
        "To compare algorithms, we therefore report performance averaged across many runs. We do this to ensure that we are not simply reporting a result that is due to stochasticity. Rather, we want statistically significant outcomes. We will not use statistical significance tests in this course. Instead, because we have access to simulators for our experiments, we use the simpler strategy of running for a large number of runs and ensuring that the confidence intervals do not overlap. "
      ]
    },
    {
      "cell_type": "markdown",
      "metadata": {
        "deletable": false,
        "editable": false,
        "id": "3M85owvOeAFy",
        "nbgrader": {
          "checksum": "65cc408096713cec77d263be0fd90b0d",
          "grade": false,
          "grade_id": "cell-1d4132f4b28f4881",
          "locked": true,
          "schema_version": 1,
          "solution": false
        }
      },
      "source": [
        "## Section 3: Comparing values of epsilon"
      ]
    },
    {
      "cell_type": "markdown",
      "metadata": {
        "deletable": false,
        "editable": false,
        "id": "eZRroZfdeAFy",
        "nbgrader": {
          "checksum": "81b41ca2616b4d370e19c911cf4ab88e",
          "grade": false,
          "grade_id": "cell-f62fa977aac5da68",
          "locked": true,
          "schema_version": 1,
          "solution": false
        }
      },
      "source": [
        "Can we do better than an epsilon of 0.1? Let's try several different values for epsilon and see how they perform. We try different settings of key performance parameters to understand how the agent might perform under different conditions.\n",
        "\n",
        "Below we run an experiment where we sweep over different values for epsilon:"
      ]
    },
    {
      "cell_type": "code",
      "execution_count": null,
      "metadata": {
        "deletable": false,
        "editable": false,
        "id": "ghH_hvbbeAFz",
        "nbgrader": {
          "checksum": "2d9ab9563f8699e0b8aabcb1087f454b",
          "grade": false,
          "grade_id": "cell-4c9881740ba46656",
          "locked": true,
          "schema_version": 1,
          "solution": false
        }
      },
      "outputs": [],
      "source": [
        "# Experiment code for epsilon-greedy with different values of epsilon\n",
        "epsilons = [0.0, 0.01, 0.1, 0.4]\n",
        "\n",
        "plt.figure(figsize=(15, 5), dpi= 80, facecolor='w', edgecolor='k')\n",
        "plt.plot([1.55 for _ in range(num_steps)], linestyle=\"--\")\n",
        "\n",
        "n_q_values = []\n",
        "n_averages = []\n",
        "n_best_actions = []\n",
        "\n",
        "num_runs = 200\n",
        "\n",
        "for epsilon in epsilons:\n",
        "    all_averages = []\n",
        "    for run in tqdm(range(num_runs)):\n",
        "        agent = EpsilonGreedyAgent\n",
        "        agent_info = {\"num_actions\": 10, \"epsilon\": epsilon}\n",
        "        env_info = {\"random_seed\": run}\n",
        "\n",
        "        rl_glue = RLGlue(env, agent)\n",
        "        rl_glue.rl_init(agent_info, env_info)\n",
        "        rl_glue.rl_start()\n",
        "        \n",
        "        best_arm = np.argmax(rl_glue.environment.arms)\n",
        "\n",
        "        scores = [0]\n",
        "        averages = []\n",
        "        best_action_chosen = []\n",
        "        \n",
        "        for i in range(num_steps):\n",
        "            reward, state, action, is_terminal = rl_glue.rl_step()\n",
        "            scores.append(scores[-1] + reward)\n",
        "            averages.append(scores[-1] / (i + 1))\n",
        "            if action == best_arm:\n",
        "                best_action_chosen.append(1)\n",
        "            else:\n",
        "                best_action_chosen.append(0)\n",
        "            if epsilon == 0.1 and run == 0:\n",
        "                n_q_values.append(np.copy(rl_glue.agent.q_values))\n",
        "        if epsilon == 0.1:\n",
        "            n_averages.append(averages)\n",
        "            n_best_actions.append(best_action_chosen)\n",
        "        all_averages.append(averages)\n",
        "        \n",
        "    plt.plot(np.mean(all_averages, axis=0))\n",
        "plt.legend([\"Best Possible\"] + epsilons)\n",
        "plt.xlabel(\"Steps\")\n",
        "plt.ylabel(\"Average reward\")\n",
        "plt.show()"
      ]
    },
    {
      "cell_type": "markdown",
      "metadata": {
        "deletable": false,
        "editable": false,
        "id": "dbqHd3VWeAFz",
        "nbgrader": {
          "checksum": "621e4edf3ee0456e562f8f61899fafd8",
          "grade": false,
          "grade_id": "cell-1763c2a2a2863158",
          "locked": true,
          "schema_version": 1,
          "solution": false
        }
      },
      "source": [
        "#### Question:\n",
        "- Why did 0.1 perform better than 0.01?\n",
        "- Why did 0.4 perform worse that 0.0 (the greedy agent)?\n"
      ]
    },
    {
      "cell_type": "markdown",
      "metadata": {
        "deletable": false,
        "editable": false,
        "id": "T1L6vlfCeAFz",
        "nbgrader": {
          "checksum": "4107b76e0b504556e7760f38c7c603b2",
          "grade": false,
          "grade_id": "cell-7f65b4e031a22732",
          "locked": true,
          "schema_version": 1,
          "solution": false
        }
      },
      "source": [
        "## Section 4: The Effect of Step Size"
      ]
    },
    {
      "cell_type": "markdown",
      "metadata": {
        "deletable": false,
        "editable": false,
        "id": "Re2OKcFeeAFz",
        "nbgrader": {
          "checksum": "dacfdaab4566f744379cf2b63aa38125",
          "grade": false,
          "grade_id": "cell-a12e885539decec6",
          "locked": true,
          "schema_version": 1,
          "solution": false
        }
      },
      "source": [
        "In Section 1 of this assignment, we decayed the step size over time based on action-selection counts. The step-size was 1/N(A), where N(A) is the number of times action A was selected. This is the same as computing a sample average. We could also set the step size to be a constant value, such as 0.1. What would be the effect of doing that? And is it better to use a constant or the sample average method? \n",
        "\n",
        "To investigate this question, let’s start by creating a new agent that has a constant step size. This will be nearly identical to the agent created above. You will use the same code to select the epsilon-greedy action. You will change the update to have a constant step size instead of using the 1/N(A) update."
      ]
    },
    {
      "cell_type": "code",
      "execution_count": null,
      "metadata": {
        "deletable": false,
        "id": "3grYG-2IeAFz",
        "nbgrader": {
          "checksum": "0c375e4a3d46bfed1a8403807bf447ab",
          "grade": false,
          "grade_id": "cell-fe26903228ef0c50",
          "locked": false,
          "schema_version": 1,
          "solution": true
        }
      },
      "outputs": [],
      "source": [
        "# Constant Step Size Agent Here [Graded]\n",
        "# Greedy agent here\n",
        "class EpsilonGreedyAgentConstantStepsize(Agent):\n",
        "    def agent_step(self, reward, observation):\n",
        "        \"\"\"\n",
        "        Takes one step for the agent. It takes in a reward and observation and \n",
        "        returns the action the agent chooses at that time step.\n",
        "        \n",
        "        Arguments:\n",
        "        reward -- float, the reward the agent received from the environment after taking the last action.\n",
        "        observation -- float, the observed state the agent is in. Do not worry about this for this assignment \n",
        "        as you will not use it until future lessons.\n",
        "        Returns:\n",
        "        current_action -- int, the action chosen by the agent at the current time step.\n",
        "        \"\"\"\n",
        "        \n",
        "        ### Useful Class Variables ###\n",
        "        # self.q_values : An array with the agent’s value estimates for each action.\n",
        "        # self.arm_count : An array with a count of the number of times each arm has been pulled.\n",
        "        # self.last_action : The action that the agent took on the previous time step.\n",
        "        # self.step_size : A float which is the current step size for the agent.\n",
        "        # self.epsilon : The probability an epsilon greedy agent will explore (ranges between 0 and 1)\n",
        "        #######################\n",
        "        \n",
        "        # Update q_values for action taken at previous time step \n",
        "        # using self.step_size intead of using self.arm_count\n",
        "        # (~1-2 lines)\n",
        "        ### START CODE HERE ###\n",
        "        \n",
        "        ### END CODE HERE ###\n",
        "        \n",
        "        # Choose action using epsilon greedy. This is the same as you implemented above.\n",
        "        # (~4 lines)\n",
        "        ### START CODE HERE ###\n",
        "        \n",
        "        ### END CODE HERE ###\n",
        "        \n",
        "        self.last_action = current_action\n",
        "        \n",
        "        return current_action"
      ]
    },
    {
      "cell_type": "code",
      "execution_count": null,
      "metadata": {
        "deletable": false,
        "editable": false,
        "id": "b7vM5r-yeAF0",
        "nbgrader": {
          "checksum": "fb2ba0590f0266b9aac4956d8f3c5489",
          "grade": true,
          "grade_id": "cell-ba6bdf28928e3042",
          "locked": true,
          "points": 0,
          "schema_version": 1,
          "solution": false
        }
      },
      "outputs": [],
      "source": [
        "# Do not modify this cell\n",
        "# Test Code for Epsilon Greedy with Different Constant Stepsizes\n",
        "for step_size in [0.01, 0.1, 0.5, 1.0]:\n",
        "    e_greedy_agent = EpsilonGreedyAgentConstantStepsize()\n",
        "    e_greedy_agent.q_values = [0, 0, 1.0, 0, 0]\n",
        "    e_greedy_agent.num_actions = 5\n",
        "    e_greedy_agent.last_action = 1\n",
        "    e_greedy_agent.epsilon = 0.0\n",
        "    e_greedy_agent.step_size = step_size\n",
        "    action = e_greedy_agent.agent_step(1, 0)\n",
        "    print(\"Output for step size: {}\".format(step_size))\n",
        "    print(e_greedy_agent.q_values)\n",
        "    print(\"Expected Output:\")\n",
        "    print([0, step_size, 1.0, 0, 0])\n",
        "    assert e_greedy_agent.q_values == [0, step_size, 1.0, 0, 0], \"Check that you are updating q_values correctly using the stepsize.\""
      ]
    },
    {
      "cell_type": "code",
      "execution_count": null,
      "metadata": {
        "deletable": false,
        "editable": false,
        "id": "b3-HwYUHeAF0",
        "nbgrader": {
          "checksum": "005b2c64dcbef3a81bee85d79af688a4",
          "grade": false,
          "grade_id": "cell-a5d327f4d52578e6",
          "locked": true,
          "schema_version": 1,
          "solution": false
        }
      },
      "outputs": [],
      "source": [
        "# Experiment code for different step sizes [graded]\n",
        "step_sizes = [0.01, 0.1, 0.5, 1.0]\n",
        "\n",
        "epsilon = 0.1\n",
        "num_steps = 1000\n",
        "num_runs = 200\n",
        "\n",
        "fig, ax = plt.subplots(figsize=(15, 5), dpi= 80, facecolor='w', edgecolor='k')\n",
        "\n",
        "q_values = {step_size: [] for step_size in step_sizes}\n",
        "true_values = {step_size: None for step_size in step_sizes}\n",
        "best_actions = {step_size: [] for step_size in step_sizes}\n",
        "\n",
        "for step_size in step_sizes:\n",
        "    all_averages = []\n",
        "    for run in tqdm(range(num_runs)):\n",
        "        agent = EpsilonGreedyAgentConstantStepsize\n",
        "        agent_info = {\"num_actions\": 10, \"epsilon\": epsilon, \"step_size\": step_size, \"initial_value\": 0.0}\n",
        "        env_info = {\"random_seed\": run}\n",
        "\n",
        "        rl_glue = RLGlue(env, agent)\n",
        "        rl_glue.rl_init(agent_info, env_info)\n",
        "        rl_glue.rl_start()\n",
        "        \n",
        "        best_arm = np.argmax(rl_glue.environment.arms)\n",
        "\n",
        "        scores = [0]\n",
        "        averages = []\n",
        "        \n",
        "        if run == 0:\n",
        "            true_values[step_size] = np.copy(rl_glue.environment.arms)\n",
        "            \n",
        "        best_action_chosen = []\n",
        "        for i in range(num_steps):\n",
        "            reward, state, action, is_terminal = rl_glue.rl_step()\n",
        "            scores.append(scores[-1] + reward)\n",
        "            averages.append(scores[-1] / (i + 1))\n",
        "            if action == best_arm:\n",
        "                best_action_chosen.append(1)\n",
        "            else:\n",
        "                best_action_chosen.append(0)\n",
        "            if run == 0:\n",
        "                q_values[step_size].append(np.copy(rl_glue.agent.q_values))\n",
        "        best_actions[step_size].append(best_action_chosen)\n",
        "    ax.plot(np.mean(best_actions[step_size], axis=0))\n",
        "    if step_size == 0.01:\n",
        "        np.save(\"step_size\", best_actions[step_size])\n",
        "    \n",
        "ax.plot(np.mean(n_best_actions, axis=0))\n",
        "fig.legend(step_sizes + [\"1/N(A)\"])\n",
        "plt.title(\"% Best Action Taken\")\n",
        "plt.xlabel(\"Steps\")\n",
        "plt.ylabel(\"% Best Action Taken\")\n",
        "vals = ax.get_yticks()\n",
        "ax.set_yticklabels(['{:,.2%}'.format(x) for x in vals])\n",
        "plt.show()"
      ]
    },
    {
      "cell_type": "markdown",
      "metadata": {
        "deletable": false,
        "editable": false,
        "id": "6Qn_baBleAF0",
        "nbgrader": {
          "checksum": "4490c3113b9b460e79a0f92ae6fb2433",
          "grade": false,
          "grade_id": "cell-6704fdb6f4f612fb",
          "locked": true,
          "schema_version": 1,
          "solution": false
        }
      },
      "source": [
        "Notice first that we are now plotting the amount of time that the best action is taken rather than the average reward. To better  understand the performance of an agent, it can be useful to measure specific behaviors, beyond just how much reward is accumulated. This measure indicates how close the agent’s behaviour is to optimal.\n",
        "\n",
        "It seems as though 1/N(A) performed better than the others, in that it reaches a solution where it takes the best action most frequently. Now why might this be? Why did a step size of 0.5 start out better but end up performing worse? Why did a step size of 0.01 perform so poorly?\n",
        "\n",
        "Let's dig into this further below. Let’s plot how well each agent tracks the true value, where each agent has a different step size method. You do not have to enter any code here, just follow along."
      ]
    },
    {
      "cell_type": "code",
      "execution_count": null,
      "metadata": {
        "deletable": false,
        "editable": false,
        "id": "uKEqYW3EeAF1",
        "nbgrader": {
          "checksum": "6c6c60dcf228a25e321b78ea59e86c71",
          "grade": false,
          "grade_id": "cell-49e29a510956e277",
          "locked": true,
          "schema_version": 1,
          "solution": false
        },
        "scrolled": false
      },
      "outputs": [],
      "source": [
        "# Plot various step sizes and estimates\n",
        "largest = 0\n",
        "num_steps = 1000\n",
        "for step_size in step_sizes:\n",
        "    plt.figure(figsize=(15, 5), dpi= 80, facecolor='w', edgecolor='k')\n",
        "    largest = np.argmax(true_values[step_size])\n",
        "    plt.plot([true_values[step_size][largest] for _ in range(num_steps)], linestyle=\"--\")\n",
        "    plt.title(\"Step Size: {}\".format(step_size))\n",
        "    plt.plot(np.array(q_values[step_size])[:, largest])\n",
        "    plt.legend([\"True Expected Value\", \"Estimated Value\"])\n",
        "    plt.xlabel(\"Steps\")\n",
        "    plt.ylabel(\"Value\")\n",
        "    plt.show()\n",
        "\n",
        "plt.figure(figsize=(15, 5), dpi= 80, facecolor='w', edgecolor='k')\n",
        "plt.title(\"Step Size: 1/N(A)\")\n",
        "plt.plot([true_values[step_size][largest] for _ in range(num_steps)], linestyle=\"--\")\n",
        "plt.plot(np.array(n_q_values)[:, largest])\n",
        "plt.legend([\"True Expected Value\", \"Estimated Value\"])\n",
        "plt.xlabel(\"Steps\")\n",
        "plt.ylabel(\"Value\")\n",
        "plt.show()"
      ]
    },
    {
      "cell_type": "markdown",
      "metadata": {
        "deletable": false,
        "editable": false,
        "id": "ZWtcaPSMeAF1",
        "nbgrader": {
          "checksum": "f0ecb1029a80a609aa9e18b280572f82",
          "grade": false,
          "grade_id": "cell-a0948edb96aacc70",
          "locked": true,
          "schema_version": 1,
          "solution": false
        }
      },
      "source": [
        "These plots help clarify the performance differences between the different step sizes. A step size of 0.01 makes such small updates that the agent’s value estimate of the best action does not get close to the actual value. Step sizes of 0.5 and 1.0 both get close to the true value quickly, but are very susceptible to stochasticity in the rewards. The updates overcorrect too much towards recent rewards, and so oscillate around the true value. This means that on many steps, the action that pulls the best arm may seem worse than it actually is.  A step size of 0.1 updates fairly quickly to the true value, and does not oscillate as widely around the true values as 0.5 and 1.0. This is one of the reasons that 0.1 performs quite well. Finally we see why 1/N(A) performed well. Early on while the step size is still reasonably high it moves quickly to the true expected value, but as it gets pulled more its step size is reduced which makes it less susceptible to the stochasticity of the rewards.\n",
        "\n",
        "Does this mean that 1/N(A) is always the best? When might it not be? One possible setting where it might not be as effective is in non-stationary problems. You learned about non-stationarity in the lessons. Non-stationarity means that the environment may change over time. This could manifest itself as continual change over time of the environment, or a sudden change in the environment.\n",
        "\n",
        "Let's look at how a sudden change in the reward distributions affects a step size like 1/N(A). This time we will run the environment for 2000 steps, and after 1000 steps we will randomly change the expected value of all of the arms. We compare two agents, both using epsilon-greedy with epsilon = 0.1. One uses a constant step size of 0.1, the other a step size of 1/N(A) that reduces over time. "
      ]
    },
    {
      "cell_type": "code",
      "execution_count": null,
      "metadata": {
        "deletable": false,
        "editable": false,
        "id": "coxs24VSeAF1",
        "nbgrader": {
          "checksum": "d04001916905f0fb420618c4014cc638",
          "grade": false,
          "grade_id": "cell-55536f4ac923ab96",
          "locked": true,
          "schema_version": 1,
          "solution": false
        }
      },
      "outputs": [],
      "source": [
        "epsilon = 0.1\n",
        "num_steps = 2000\n",
        "num_runs = 200\n",
        "step_size = 0.1\n",
        "\n",
        "plt.figure(figsize=(15, 5), dpi= 80, facecolor='w', edgecolor='k')\n",
        "plt.plot([1.55 for _ in range(num_steps)], linestyle=\"--\")\n",
        "\n",
        "for agent in [EpsilonGreedyAgent, EpsilonGreedyAgentConstantStepsize]:\n",
        "    all_averages = []\n",
        "    for run in tqdm(range(num_runs)):\n",
        "        agent_info = {\"num_actions\": 10, \"epsilon\": epsilon, \"step_size\": step_size}\n",
        "        env_info = {\"random_seed\": run}\n",
        "\n",
        "        rl_glue = RLGlue(env, agent)\n",
        "        rl_glue.rl_init(agent_info, env_info)\n",
        "        rl_glue.rl_start()\n",
        "\n",
        "        scores = [0]\n",
        "        averages = []\n",
        "        \n",
        "        for i in range(num_steps):\n",
        "            reward, state, action, is_terminal = rl_glue.rl_step()\n",
        "            scores.append(scores[-1] + reward)\n",
        "            averages.append(scores[-1] / (i + 1))\n",
        "            if i == 1000:\n",
        "                rl_glue.environment.arms = np.random.randn(10)\n",
        "        all_averages.append(averages)\n",
        "        \n",
        "    plt.plot(np.mean(all_averages, axis=0))\n",
        "plt.legend([\"Best Possible\", \"1/N(A)\", \"0.1\"])\n",
        "plt.xlabel(\"Steps\")\n",
        "plt.ylabel(\"Average reward\")\n",
        "plt.show()"
      ]
    },
    {
      "cell_type": "markdown",
      "metadata": {
        "deletable": false,
        "editable": false,
        "id": "2pHyDWELeAF2",
        "nbgrader": {
          "checksum": "714c6cad23e3d8fe31496ffbe8674620",
          "grade": false,
          "grade_id": "cell-c4a8be88bbcc9b38",
          "locked": true,
          "schema_version": 1,
          "solution": false
        }
      },
      "source": [
        "#### Question\n",
        "Now the agent with a step size of 1/N(A) performed better at the start but then performed worse when the environment changed! \n",
        "\n",
        "Explain what happened?\n"
      ]
    },
    {
      "cell_type": "markdown",
      "metadata": {
        "id": "YatkACETeAF2"
      },
      "source": [
        "## Section 5: Conclusion"
      ]
    },
    {
      "cell_type": "markdown",
      "metadata": {
        "deletable": false,
        "editable": false,
        "id": "jSdL_gcteAF2",
        "nbgrader": {
          "checksum": "3c335943267e235b3001c228e4bf9ba3",
          "grade": false,
          "grade_id": "cell-3c25a546a3d44e22",
          "locked": true,
          "schema_version": 1,
          "solution": false
        }
      },
      "source": [
        "In this notebook you: \n",
        "- Implemented your first agent\n",
        "- Learned about the effect of epsilon, an exploration parameter, on the performance of an agent\n",
        "- Learned about the effect of step size on the performance of the agent\n",
        "- Learned about a good experiment practice of averaging across multiple runs"
      ]
    }
  ],
  "metadata": {
    "@webio": {
      "lastCommId": null,
      "lastKernelId": null
    },
    "colab": {
      "collapsed_sections": [],
      "name": "CS AI Summer School 22 - Introduction to Reinforcement Learning Hands-on.ipynb",
      "provenance": []
    },
    "coursera": {
      "course_slug": "fundamentals-of-reinforcement-learning",
      "graded_item_id": "Mxc5Y",
      "launcher_item_id": "9ldtk"
    },
    "kernelspec": {
      "display_name": "Python 3",
      "language": "python",
      "name": "python3"
    },
    "language_info": {
      "codemirror_mode": {
        "name": "ipython",
        "version": 3
      },
      "file_extension": ".py",
      "mimetype": "text/x-python",
      "name": "python",
      "nbconvert_exporter": "python",
      "pygments_lexer": "ipython3",
      "version": "3.7.1"
    }
  },
  "nbformat": 4,
  "nbformat_minor": 0
}
